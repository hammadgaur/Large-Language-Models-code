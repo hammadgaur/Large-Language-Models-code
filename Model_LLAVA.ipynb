{
 "cells": [
  {
   "cell_type": "code",
   "execution_count": 1,
   "id": "ff7af65b-6503-4bc5-8bc0-eb0c0d5444d5",
   "metadata": {},
   "outputs": [
    {
     "name": "stdout",
     "output_type": "stream",
     "text": [
      " This image features a document titled \"University of Aberdeen Statement Language Level.\" The page appears to be a certificate stating the student's language level. Below this, there is another text box that reads \"We certify that the student has completed the required levels in the Aberdeen English Program and are now eligible for an exchange or direct entry into any undergraduate program at the University of Aberdeen for the academic year 2016/2017. The form also contains a signature section, allowing someone to sign off on the document.\n"
     ]
    }
   ],
   "source": [
    "import requests\n",
    "import json\n",
    "import base64\n",
    "\n",
    "# Encode your image to base64\n",
    "with open(\"/Users/hammad/Desktop/ababab.png\", \"rb\") as image_file: # provide your image path\n",
    "    encoded_string = base64.b64encode(image_file.read()).decode()\n",
    "\n",
    "# URL of the API endpoint\n",
    "url = \"http://localhost:11434/api/generate\"\n",
    "data={\n",
    "      \"model\": \"llava\",\n",
    "      \"prompt\":\"What is in this picture?\",\n",
    "      \"stream\": False,\n",
    "      \"images\":[encoded_string]\n",
    "}\n",
    "\n",
    "response=requests.post(url,json=data)\n",
    "\n",
    "# Parsing the JSON response\n",
    "response_json = json.loads(response.text)\n",
    "\n",
    "answer=response_json.get('response', 'No response found')\n",
    "\n",
    "print(answer)"
   ]
  },
  {
   "cell_type": "code",
   "execution_count": null,
   "id": "7d97474f-e21d-4045-b91d-d83581162bb6",
   "metadata": {},
   "outputs": [],
   "source": []
  }
 ],
 "metadata": {
  "kernelspec": {
   "display_name": "Python 3 (ipykernel)",
   "language": "python",
   "name": "python3"
  },
  "language_info": {
   "codemirror_mode": {
    "name": "ipython",
    "version": 3
   },
   "file_extension": ".py",
   "mimetype": "text/x-python",
   "name": "python",
   "nbconvert_exporter": "python",
   "pygments_lexer": "ipython3",
   "version": "3.11.0"
  }
 },
 "nbformat": 4,
 "nbformat_minor": 5
}
