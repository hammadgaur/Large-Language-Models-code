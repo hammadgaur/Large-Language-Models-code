{
 "cells": [
  {
   "cell_type": "code",
   "execution_count": 1,
   "id": "f5927483-ee3d-42f0-ae1b-076d7f00169e",
   "metadata": {},
   "outputs": [
    {
     "ename": "SyntaxError",
     "evalue": "invalid syntax (2551700393.py, line 7)",
     "output_type": "error",
     "traceback": [
      "\u001b[0;36m  Cell \u001b[0;32mIn[1], line 7\u001b[0;36m\u001b[0m\n\u001b[0;31m    gcloud_path =\u001b[0m\n\u001b[0m                  ^\u001b[0m\n\u001b[0;31mSyntaxError\u001b[0m\u001b[0;31m:\u001b[0m invalid syntax\n"
     ]
    }
   ],
   "source": [
    "import subprocess\n",
    "import requests\n",
    "import json\n",
    "\n",
    "def get_gemini_token():\n",
    "    # Define the path to the gcloud executable\n",
    "    gcloud_path = \n",
    "\n",
    "    # Set the command to get the access token\n",
    "    command = f\"{gcloud_path} auth application-default print-access-token\"\n",
    "\n",
    "    # Use subprocess to execute the command\n",
    "    process = subprocess.Popen(command, shell=True, stdout=subprocess.PIPE, stderr=subprocess.PIPE)\n",
    "    stdout, stderr = process.communicate()\n",
    "\n",
    "    # Check for errors\n",
    "    if process.returncode != 0:\n",
    "        raise Exception(f\"Error in getting token: {stderr.decode().strip()}\")\n",
    "\n",
    "    # Extract the access token and trim whitespace\n",
    "    access_token = stdout.decode().strip()\n",
    "    return access_token\n",
    "\n",
    "# Example usage\n",
    "access_token_result  = get_gemini_token()\n",
    "\n",
    "def call_gemini(query):\n",
    "    global access_token_result\n",
    "\n",
    "    # Check if access token is available\n",
    "    if 'access_token_result' not in globals():\n",
    "        access_token_result = get_gemini_token()\n",
    "\n",
    "    # Set up headers\n",
    "    headers = {\n",
    "        \"Authorization\": f\"Bearer {access_token_result}\",\n",
    "        \"Content-Type\": \"application/json\"\n",
    "    }\n",
    "\n",
    "    # Construct JSON body\n",
    "    json_body = json.dumps({\n",
    "        \"contents\": {\n",
    "            \"role\": \"user\",\n",
    "            \"parts\": [{\"text\": query}]\n",
    "        }\n",
    "    })\n",
    "\n",
    "    # API URL\n",
    "    api_url = #provide your api URL\n",
    "    # Make API request\n",
    "    response = requests.post(api_url, headers=headers, data=json_body)\n",
    "\n",
    "    # Check for successful response\n",
    "    if response.status_code != 200:\n",
    "        raise Exception(f\"API request failed with status code {response.status_code}: {response.text}\")\n",
    "\n",
    "    response_data = response.json()\n",
    "\n",
    "    # Parse response parts\n",
    "    response_parts = []\n",
    "    for item in response_data:\n",
    "        candidates = item.get(\"candidates\", [])\n",
    "        for candidate in candidates:\n",
    "            content = candidate.get(\"content\", {})\n",
    "            parts = content.get(\"parts\", [])\n",
    "            for part in parts:\n",
    "                text = part.get(\"text\", \"\")\n",
    "                if text:\n",
    "                    response_parts.append(text)\n",
    "\n",
    "    # Combine the parts\n",
    "    full_response = \"\\n\".join(response_parts)\n",
    "\n",
    "    return full_response\n",
    "\n",
    "# Example usage\n",
    "result = call_gemini(\"What is the mass of the sun and how was it measured?\")\n",
    "print(result)\n"
   ]
  },
  {
   "cell_type": "code",
   "execution_count": null,
   "id": "61ae6229-5089-4e8c-802e-4bb91030d639",
   "metadata": {},
   "outputs": [],
   "source": []
  }
 ],
 "metadata": {
  "kernelspec": {
   "display_name": "Python 3 (ipykernel)",
   "language": "python",
   "name": "python3"
  },
  "language_info": {
   "codemirror_mode": {
    "name": "ipython",
    "version": 3
   },
   "file_extension": ".py",
   "mimetype": "text/x-python",
   "name": "python",
   "nbconvert_exporter": "python",
   "pygments_lexer": "ipython3",
   "version": "3.11.0"
  }
 },
 "nbformat": 4,
 "nbformat_minor": 5
}
