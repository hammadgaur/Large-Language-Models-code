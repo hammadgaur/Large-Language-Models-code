{
 "cells": [
  {
   "cell_type": "code",
   "execution_count": 1,
   "id": "86221ed6-4935-40e3-8212-183b89cec051",
   "metadata": {},
   "outputs": [
    {
     "name": "stdout",
     "output_type": "stream",
     "text": [
      "Available models:\n",
      "1. llama2\n",
      "2. dolphin-mistral\n",
      "3. dolphin-mixtral\n",
      "4. llava\n"
     ]
    },
    {
     "name": "stdin",
     "output_type": "stream",
     "text": [
      "Select a model by entering its number:  2\n",
      "Prompt (or type 'exit' or 'stop' to end):  What generative AI?\n"
     ]
    },
    {
     "name": "stdout",
     "output_type": "stream",
     "text": [
      " Generative Artificial Intelligence (AI) refers to advanced technologies capable of creating novel content based on learned patterns and data inputs. These AI models employ machine learning algorithms, which allow them to generate new material that is both original and diverse, rather than merely replicating or refining existing data. \n",
      "\n",
      "Generative AIs can produce a wide variety of outputs including text, images, audio, and even complex programs or algorithms. The field is rapidly evolving as more advanced models like GPT-3, DALL-E, and StyleGAN are developed, pushing the boundaries of creativity, innovation, and collaboration between humans and AI systems.\n",
      "\n",
      "Some popular examples of Generative AIs include:\n",
      "\n",
      "1. **GPT-3 (Generative Pretrained Transformer 3):** Developed by OpenAI, this natural language processing system is one of the largest AI models ever developed, able to generate text that accurately reflects human language patterns and can be applied in a wide variety of use cases from content creation to answering questions.\n",
      "2. **DALL-E:** This AI model developed by OpenAI is designed for generating images based on natural language descriptions. It can produce realistic visuals with remarkable detail, bridging the gap between textual prompts and visual art.\n",
      "3. **StyleGAN:** A generative adversarial network (GAN) that generates high-resolution images of a specific object or person, by using a combination of pretrained style vectors for controlling the overall appearance of the output image.\n",
      "\n",
      "These models, along with others in development, are opening up new possibilities for human creativity and collaboration across industries, from entertainment to medicine to scientific discovery.\n"
     ]
    },
    {
     "name": "stdin",
     "output_type": "stream",
     "text": [
      "Prompt (or type 'exit' or 'stop' to end):  exit\n"
     ]
    },
    {
     "name": "stdout",
     "output_type": "stream",
     "text": [
      "Exiting the conversation.\n"
     ]
    }
   ],
   "source": [
    "import requests\n",
    "import json\n",
    "\n",
    "# Function to make a POST request to the API\n",
    "def get_response(user_question, selected_model):\n",
    "    # URL of the API endpoint\n",
    "    url = \"http://localhost:11434/api/generate\"\n",
    "\n",
    "    # Data to be sent in the request\n",
    "    data = {\n",
    "        \"model\": selected_model,\n",
    "        \"prompt\": user_question,\n",
    "        \"stream\": False\n",
    "    }\n",
    "\n",
    "    # Making a POST request to the API\n",
    "    response = requests.post(url, json=data)\n",
    "\n",
    "    # Parsing the JSON response\n",
    "    response_json = json.loads(response.text)\n",
    "\n",
    "    # Extracting just the response text\n",
    "    return response_json.get('response', 'No response found')\n",
    "\n",
    "# Function to select a model\n",
    "def select_model():\n",
    "    models = [\"llama2\", \"dolphin-mistral\", \"dolphin-mixtral\",\"llava\"]  # model names\n",
    "    print(\"Available models:\")\n",
    "    for i, model in enumerate(models, 1):\n",
    "        print(f\"{i}. {model}\")\n",
    "\n",
    "    while True:\n",
    "        choice = input(\"Select a model by entering its number: \")\n",
    "        if choice.isdigit() and 1 <= int(choice) <= len(models):\n",
    "            return models[int(choice) - 1]\n",
    "        else:\n",
    "            print(\"Invalid selection. Please enter a valid number.\")\n",
    "\n",
    "# Starting the conversation loop\n",
    "selected_model = select_model()\n",
    "while True:\n",
    "    user_question = input(\"Prompt (or type 'exit' or 'stop' to end): \")\n",
    "    \n",
    "    # Check if the user wants to exit the conversation\n",
    "    if user_question.lower() in ['exit', 'stop']:\n",
    "        print(\"Exiting the conversation.\")\n",
    "        break\n",
    "\n",
    "    # Get and print the response from the API\n",
    "    actual_response = get_response(user_question, selected_model)\n",
    "    print(actual_response)"
   ]
  },
  {
   "cell_type": "code",
   "execution_count": null,
   "id": "c2e4fe17-69b9-4be6-9024-3d08090fd6b0",
   "metadata": {},
   "outputs": [],
   "source": []
  }
 ],
 "metadata": {
  "kernelspec": {
   "display_name": "Python 3 (ipykernel)",
   "language": "python",
   "name": "python3"
  },
  "language_info": {
   "codemirror_mode": {
    "name": "ipython",
    "version": 3
   },
   "file_extension": ".py",
   "mimetype": "text/x-python",
   "name": "python",
   "nbconvert_exporter": "python",
   "pygments_lexer": "ipython3",
   "version": "3.11.0"
  }
 },
 "nbformat": 4,
 "nbformat_minor": 5
}
